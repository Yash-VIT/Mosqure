{
 "cells": [
  {
   "cell_type": "code",
   "execution_count": 1,
   "metadata": {},
   "outputs": [],
   "source": [
    "import pandas as pd"
   ]
  },
  {
   "cell_type": "code",
   "execution_count": null,
   "metadata": {},
   "outputs": [],
   "source": [
    "data=pd.read_csv('feature_dengue.csv')\n",
    "dataframe=pd.DataFrame(data)"
   ]
  },
  {
   "cell_type": "code",
   "execution_count": null,
   "metadata": {},
   "outputs": [],
   "source": [
    "dataframe.head(5)"
   ]
  },
  {
   "cell_type": "code",
   "execution_count": null,
   "metadata": {},
   "outputs": [],
   "source": [
    "columns=['precipitation_amt_mm','reanalysis_relative_humidity_percent','station_avg_temp_c','total_cases']\n",
    "df=dataframe.filter(columns).dropna()"
   ]
  },
  {
   "cell_type": "code",
   "execution_count": null,
   "metadata": {},
   "outputs": [],
   "source": [
    "from sklearn.model_selection import train_test_split\n",
    "from sklearn.preprocessing import MinMaxScaler\n",
    "\n",
    "scaler=MinMaxScaler()\n",
    "scaler.fit(df)\n",
    "df=scaler.transform(df)\n",
    "\n",
    "train=df[:,[0,1,2]]\n",
    "test=df[:,3]\n",
    "\n",
    "x_train,x_test,y_train,y_test=train_test_split(train,test,test_size=0.2)"
   ]
  },
  {
   "cell_type": "code",
   "execution_count": null,
   "metadata": {},
   "outputs": [],
   "source": [
    "print(x_train.shape)\n",
    "print(y_train.shape)"
   ]
  },
  {
   "cell_type": "markdown",
   "metadata": {},
   "source": [
    "## Decision Tree Regressor"
   ]
  },
  {
   "cell_type": "code",
   "execution_count": null,
   "metadata": {},
   "outputs": [],
   "source": [
    "from sklearn.tree import DecisionTreeRegressor\n",
    "regr=DecisionTreeRegressor(max_depth=5).fit(x_train,y_train)"
   ]
  },
  {
   "cell_type": "markdown",
   "metadata": {},
   "source": [
    "## SVM Regressor"
   ]
  },
  {
   "cell_type": "code",
   "execution_count": null,
   "metadata": {},
   "outputs": [],
   "source": [
    "from sklearn.svm import SVR\n",
    "clf=SVR(kernel='linear', C=1e3).fit(x_train,y_train)"
   ]
  },
  {
   "cell_type": "markdown",
   "metadata": {},
   "source": [
    "## Random Forest Regressor"
   ]
  },
  {
   "cell_type": "code",
   "execution_count": null,
   "metadata": {},
   "outputs": [],
   "source": [
    "from sklearn.ensemble import RandomForestRegressor\n",
    "rf_regr = RandomForestRegressor(max_depth=2, random_state=0).fit(x_train,y_train)"
   ]
  },
  {
   "cell_type": "markdown",
   "metadata": {},
   "source": [
    "## Validate"
   ]
  },
  {
   "cell_type": "code",
   "execution_count": null,
   "metadata": {},
   "outputs": [],
   "source": [
    "from sklearn.metrics import mean_squared_error\n",
    "print(mean_squared_error(y_test,regr.predict(x_test)))\n",
    "print(mean_squared_error(y_test,clf.predict(x_test)))\n",
    "print(mean_squared_error(y_test,rf_regr.predict(x_test)))"
   ]
  },
  {
   "cell_type": "markdown",
   "metadata": {},
   "source": [
    "## Save MinMaxScaler model"
   ]
  },
  {
   "cell_type": "code",
   "execution_count": null,
   "metadata": {},
   "outputs": [],
   "source": [
    "from sklearn.externals import joblib \n",
    "joblib.dump(scaler,'Scaler.pkl')"
   ]
  },
  {
   "cell_type": "code",
   "execution_count": null,
   "metadata": {},
   "outputs": [],
   "source": [
    "scaler = joblib.load(\"Scaler.pkl\") "
   ]
  },
  {
   "cell_type": "markdown",
   "metadata": {},
   "source": [
    "## Save ML Models"
   ]
  },
  {
   "cell_type": "code",
   "execution_count": null,
   "metadata": {},
   "outputs": [],
   "source": [
    "joblib.dump(regr,'dt_regr.pkl')\n",
    "joblib.dump(clf,'svm_regr.pkl')\n",
    "joblib.dump(rf_regr,'randf_regr.pkl')"
   ]
  },
  {
   "cell_type": "markdown",
   "metadata": {},
   "source": [
    "## Mean of Difference Vegetation Index(NDVI) [ne,nw,se,sw]"
   ]
  },
  {
   "cell_type": "code",
   "execution_count": null,
   "metadata": {},
   "outputs": [],
   "source": [
    "columns_mean=['ndvi_ne','ndvi_nw','ndvi_se','ndvi_sw']\n",
    "df1=dataframe.filter(columns_mean)\n",
    "mean_ndvi=df1.mean(axis=1)\n",
    "\n",
    "mean_ndvi.to_csv('ndvi_mean', encoding='utf-8', index=False)"
   ]
  },
  {
   "cell_type": "code",
   "execution_count": null,
   "metadata": {},
   "outputs": [],
   "source": [
    "mean_ndvi.shape"
   ]
  },
  {
   "cell_type": "markdown",
   "metadata": {},
   "source": [
    "## Zika values additional removal"
   ]
  },
  {
   "cell_type": "code",
   "execution_count": null,
   "metadata": {},
   "outputs": [],
   "source": [
    "import numpy as np\n",
    "\n",
    "dataframe_new=pd.read_csv('feature_dengue.csv')\n",
    "df=pd.DataFrame(dataframe_new)\n",
    "\n",
    "df_array = np.array(df['zika_value'])\n",
    "df_new=df_array[df_array!=['0']]"
   ]
  },
  {
   "cell_type": "code",
   "execution_count": null,
   "metadata": {},
   "outputs": [],
   "source": [
    "df_new=pd.DataFrame(df_new)\n",
    "df_new=df_new.dropna()\n",
    "df_new=df[:dataframe.shape[0]]"
   ]
  },
  {
   "cell_type": "code",
   "execution_count": null,
   "metadata": {},
   "outputs": [],
   "source": [
    "df_new.to_csv('zika_filtered',encoding='utf-8',index=False)"
   ]
  },
  {
   "cell_type": "markdown",
   "metadata": {},
   "source": []
  },
  {
   "cell_type": "markdown",
   "metadata": {},
   "source": [
    "### Work on Filtered Dataset"
   ]
  },
  {
   "cell_type": "code",
   "execution_count": null,
   "metadata": {},
   "outputs": [],
   "source": [
    "filtered_data=pd.read_csv('feature_dengue.csv')\n",
    "filtered_df=pd.DataFrame(filtered_data).dropna()\n",
    "\n",
    "scaler=MinMaxScaler()\n",
    "scaler.fit(filtered_df)\n",
    "filtered_df=scaler.transform(filtered_df)\n",
    "\n",
    "train=filtered_df[:,[0,1,2,3]]\n",
    "train_disease=filtered_df[:,[4,5,6]]\n",
    "\n",
    "x_train_disease,x_test_disease,y_train_disease,y_test_disease=train_test_split(train,train_disease,test_size=0.2)"
   ]
  },
  {
   "cell_type": "code",
   "execution_count": null,
   "metadata": {},
   "outputs": [],
   "source": [
    "print(x_train_disease.shape)\n",
    "print(y_train_disease.shape)"
   ]
  },
  {
   "cell_type": "code",
   "execution_count": null,
   "metadata": {},
   "outputs": [],
   "source": [
    "rf_regr_disease= RandomForestRegressor(max_depth=3, random_state=0).fit(x_train_disease,y_train_disease)"
   ]
  },
  {
   "cell_type": "code",
   "execution_count": null,
   "metadata": {},
   "outputs": [],
   "source": [
    "print(mean_squared_error(y_test_disease,rf_regr_disease.predict(x_test_disease)))"
   ]
  },
  {
   "cell_type": "code",
   "execution_count": null,
   "metadata": {},
   "outputs": [],
   "source": [
    "import pickle\n",
    "pickle.dump(rf_regr_disease,open('model_regr.pkl','wb'))"
   ]
  },
  {
   "cell_type": "markdown",
   "metadata": {},
   "source": []
  },
  {
   "cell_type": "markdown",
   "metadata": {},
   "source": []
  },
  {
   "cell_type": "markdown",
   "metadata": {},
   "source": [
    "## Dengue Classification model for Chatbot"
   ]
  },
  {
   "cell_type": "code",
   "execution_count": 2,
   "metadata": {},
   "outputs": [],
   "source": [
    "data=pd.read_csv('D:/ml_datasets/dengue_classification.csv')\n",
    "df=pd.DataFrame(data)"
   ]
  },
  {
   "cell_type": "code",
   "execution_count": 3,
   "metadata": {},
   "outputs": [
    {
     "data": {
      "text/html": [
       "<div>\n",
       "<style scoped>\n",
       "    .dataframe tbody tr th:only-of-type {\n",
       "        vertical-align: middle;\n",
       "    }\n",
       "\n",
       "    .dataframe tbody tr th {\n",
       "        vertical-align: top;\n",
       "    }\n",
       "\n",
       "    .dataframe thead th {\n",
       "        text-align: right;\n",
       "    }\n",
       "</style>\n",
       "<table border=\"1\" class=\"dataframe\">\n",
       "  <thead>\n",
       "    <tr style=\"text-align: right;\">\n",
       "      <th></th>\n",
       "      <th>age</th>\n",
       "      <th>will_platelets</th>\n",
       "      <th>headache</th>\n",
       "      <th>joint pain</th>\n",
       "      <th>metallic taste</th>\n",
       "      <th>abdominal pain</th>\n",
       "      <th>vomiting</th>\n",
       "      <th>bleeding</th>\n",
       "      <th>body_temperature</th>\n",
       "      <th>dengue</th>\n",
       "    </tr>\n",
       "  </thead>\n",
       "  <tbody>\n",
       "    <tr>\n",
       "      <th>0</th>\n",
       "      <td>19</td>\n",
       "      <td>1</td>\n",
       "      <td>0</td>\n",
       "      <td>1</td>\n",
       "      <td>0</td>\n",
       "      <td>1</td>\n",
       "      <td>0</td>\n",
       "      <td>0</td>\n",
       "      <td>0</td>\n",
       "      <td>1</td>\n",
       "    </tr>\n",
       "    <tr>\n",
       "      <th>1</th>\n",
       "      <td>19</td>\n",
       "      <td>0</td>\n",
       "      <td>0</td>\n",
       "      <td>0</td>\n",
       "      <td>1</td>\n",
       "      <td>0</td>\n",
       "      <td>0</td>\n",
       "      <td>0</td>\n",
       "      <td>0</td>\n",
       "      <td>0</td>\n",
       "    </tr>\n",
       "    <tr>\n",
       "      <th>2</th>\n",
       "      <td>20</td>\n",
       "      <td>1</td>\n",
       "      <td>1</td>\n",
       "      <td>1</td>\n",
       "      <td>1</td>\n",
       "      <td>0</td>\n",
       "      <td>1</td>\n",
       "      <td>1</td>\n",
       "      <td>0</td>\n",
       "      <td>1</td>\n",
       "    </tr>\n",
       "    <tr>\n",
       "      <th>3</th>\n",
       "      <td>24</td>\n",
       "      <td>0</td>\n",
       "      <td>0</td>\n",
       "      <td>0</td>\n",
       "      <td>1</td>\n",
       "      <td>1</td>\n",
       "      <td>0</td>\n",
       "      <td>0</td>\n",
       "      <td>1</td>\n",
       "      <td>0</td>\n",
       "    </tr>\n",
       "    <tr>\n",
       "      <th>4</th>\n",
       "      <td>17</td>\n",
       "      <td>1</td>\n",
       "      <td>1</td>\n",
       "      <td>0</td>\n",
       "      <td>0</td>\n",
       "      <td>1</td>\n",
       "      <td>1</td>\n",
       "      <td>1</td>\n",
       "      <td>0</td>\n",
       "      <td>1</td>\n",
       "    </tr>\n",
       "  </tbody>\n",
       "</table>\n",
       "</div>"
      ],
      "text/plain": [
       "   age   will_platelets  headache  joint pain  metallic taste  abdominal pain  \\\n",
       "0    19               1         0           1               0               1   \n",
       "1    19               0         0           0               1               0   \n",
       "2    20               1         1           1               1               0   \n",
       "3    24               0         0           0               1               1   \n",
       "4    17               1         1           0               0               1   \n",
       "\n",
       "   vomiting  bleeding  body_temperature  dengue  \n",
       "0         0         0                 0       1  \n",
       "1         0         0                 0       0  \n",
       "2         1         1                 0       1  \n",
       "3         0         0                 1       0  \n",
       "4         1         1                 0       1  "
      ]
     },
     "execution_count": 3,
     "metadata": {},
     "output_type": "execute_result"
    }
   ],
   "source": [
    "df.head(5)"
   ]
  },
  {
   "cell_type": "code",
   "execution_count": null,
   "metadata": {},
   "outputs": [],
   "source": [
    "X=df.iloc[:,:-1]\n",
    "y=df.iloc[:,-1]"
   ]
  },
  {
   "cell_type": "code",
   "execution_count": null,
   "metadata": {},
   "outputs": [],
   "source": [
    "from sklearn.tree import DecisionTreeClassifier\n",
    "dt=DecisionTreeClassifier().fit(X,y)"
   ]
  },
  {
   "cell_type": "code",
   "execution_count": null,
   "metadata": {},
   "outputs": [],
   "source": [
    "from sklearn.metrics import f1_score\n",
    "f1_score(y,dt.predict(X),average='binary')"
   ]
  },
  {
   "cell_type": "code",
   "execution_count": null,
   "metadata": {},
   "outputs": [],
   "source": [
    "import pickle\n",
    "pickle.dump(dt,open('chatbot_acm.pkl','wb'))"
   ]
  },
  {
   "cell_type": "markdown",
   "metadata": {},
   "source": []
  },
  {
   "cell_type": "markdown",
   "metadata": {},
   "source": [
    "## Chatbot Backend Questions"
   ]
  },
  {
   "cell_type": "code",
   "execution_count": 26,
   "metadata": {},
   "outputs": [
    {
     "name": "stdout",
     "output_type": "stream",
     "text": [
      "21\n",
      "yes\n",
      "no\n",
      "no\n",
      "no\n",
      "no\n",
      "no\n",
      "no\n",
      "no\n"
     ]
    }
   ],
   "source": [
    "questions=['What is your age ?','Do you will platelets','Do you experience headache?','Do you have joint pain ?',\n",
    "           'Do you have metallic taste?','Do you have abdominal pain?',\n",
    "           'Do you have vomitings?','Do you bleed?','Do you have high body temperature?']\n",
    "\n",
    "responses=[]\n",
    "\n",
    "\n",
    "for question in questions:\n",
    "    print(question)\n",
    "    \n",
    "    ans=input()\n",
    "    \n",
    "    if question==questions[0]:\n",
    "        responses.append(ans)\n",
    "        \n",
    "    if(ans in ['Yes','yes']):\n",
    "        responses.append(1)\n",
    "        \n",
    "    elif(ans in ['No','no']):\n",
    "        responses.append(0)"
   ]
  },
  {
   "cell_type": "code",
   "execution_count": 70,
   "metadata": {},
   "outputs": [],
   "source": [
    "import numpy as np"
   ]
  },
  {
   "cell_type": "code",
   "execution_count": 27,
   "metadata": {},
   "outputs": [
    {
     "data": {
      "text/html": [
       "<div>\n",
       "<style scoped>\n",
       "    .dataframe tbody tr th:only-of-type {\n",
       "        vertical-align: middle;\n",
       "    }\n",
       "\n",
       "    .dataframe tbody tr th {\n",
       "        vertical-align: top;\n",
       "    }\n",
       "\n",
       "    .dataframe thead th {\n",
       "        text-align: right;\n",
       "    }\n",
       "</style>\n",
       "<table border=\"1\" class=\"dataframe\">\n",
       "  <thead>\n",
       "    <tr style=\"text-align: right;\">\n",
       "      <th></th>\n",
       "      <th>0</th>\n",
       "      <th>1</th>\n",
       "      <th>2</th>\n",
       "      <th>3</th>\n",
       "      <th>4</th>\n",
       "      <th>5</th>\n",
       "      <th>6</th>\n",
       "      <th>7</th>\n",
       "      <th>8</th>\n",
       "    </tr>\n",
       "  </thead>\n",
       "  <tbody>\n",
       "    <tr>\n",
       "      <th>0</th>\n",
       "      <td>21</td>\n",
       "      <td>1</td>\n",
       "      <td>0</td>\n",
       "      <td>0</td>\n",
       "      <td>0</td>\n",
       "      <td>0</td>\n",
       "      <td>0</td>\n",
       "      <td>0</td>\n",
       "      <td>0</td>\n",
       "    </tr>\n",
       "  </tbody>\n",
       "</table>\n",
       "</div>"
      ],
      "text/plain": [
       "    0  1  2  3  4  5  6  7  8\n",
       "0  21  1  0  0  0  0  0  0  0"
      ]
     },
     "execution_count": 27,
     "metadata": {},
     "output_type": "execute_result"
    }
   ],
   "source": [
    "responses=pd.DataFrame(np.array(responses).reshape(1,-1))\n",
    "responses"
   ]
  },
  {
   "cell_type": "code",
   "execution_count": 28,
   "metadata": {},
   "outputs": [
    {
     "name": "stdout",
     "output_type": "stream",
     "text": [
      "You are safe\n"
     ]
    }
   ],
   "source": [
    "import pickle\n",
    "loaded_dt_model=pickle.load(open('chatbot_acm.pkl','rb'))\n",
    "dengue_predicted=loaded_dt_model.predict(responses)\n",
    "\n",
    "if(dengue_predicted==1):\n",
    "    print(\"You may experience dengue\")\n",
    "else:\n",
    "    print(\"You are safe\")"
   ]
  },
  {
   "cell_type": "markdown",
   "metadata": {},
   "source": [
    "## Tweets Focusing Dengue Detection"
   ]
  },
  {
   "cell_type": "code",
   "execution_count": 29,
   "metadata": {},
   "outputs": [],
   "source": [
    "import tensorflow as tf\n",
    "from tensorflow import keras\n",
    "from tensorflow.keras.preprocessing.text import Tokenizer"
   ]
  },
  {
   "cell_type": "code",
   "execution_count": 253,
   "metadata": {},
   "outputs": [],
   "source": [
    "tweets_data=pd.read_csv('D:/ml_datasets/TwitterDengue.csv',engine='python')\n",
    "tweets=tweets_data['tweets'].tolist()"
   ]
  },
  {
   "cell_type": "code",
   "execution_count": 206,
   "metadata": {},
   "outputs": [],
   "source": [
    "#labels=tweets_data['label'].tolist()"
   ]
  },
  {
   "cell_type": "code",
   "execution_count": 254,
   "metadata": {},
   "outputs": [],
   "source": [
    "label_list=np.random.randint(0,2,size=(tweets_data.shape[0],3))"
   ]
  },
  {
   "cell_type": "code",
   "execution_count": 242,
   "metadata": {},
   "outputs": [
    {
     "data": {
      "text/plain": [
       "array([[0, 1, 0],\n",
       "       [1, 1, 1],\n",
       "       [1, 1, 0],\n",
       "       [1, 1, 0]])"
      ]
     },
     "execution_count": 242,
     "metadata": {},
     "output_type": "execute_result"
    }
   ],
   "source": [
    "#label_list[:4]"
   ]
  },
  {
   "cell_type": "code",
   "execution_count": 255,
   "metadata": {},
   "outputs": [
    {
     "name": "stdout",
     "output_type": "stream",
     "text": [
      "0    Hospitals deprived of dengue related facilitie...\n",
      "1    My WhatsApp is so still that it will create a ...\n",
      "2    My biggest worrisome is most of our hospitals ...\n",
      "3    Attention! Focus on the dengue mosquito. In fr...\n",
      "Name: tweets, dtype: object\n",
      "[[0 0 1]\n",
      " [0 1 0]\n",
      " [0 0 0]\n",
      " [1 0 1]]\n"
     ]
    }
   ],
   "source": [
    "test_tweets=tweets_data['tweets'][:4]\n",
    "test_labels=label_list[:4]\n",
    "\n",
    "print(test_tweets)\n",
    "print(test_labels)"
   ]
  },
  {
   "cell_type": "code",
   "execution_count": 256,
   "metadata": {},
   "outputs": [],
   "source": [
    "vocab_size=500\n",
    "embedding_dim=16\n",
    "max_length=30\n",
    "trunc_type='post'\n",
    "oov_tok=\"<OOV>\""
   ]
  },
  {
   "cell_type": "code",
   "execution_count": 257,
   "metadata": {},
   "outputs": [],
   "source": [
    "tokenizer=Tokenizer(num_words=vocab_size,oov_token=oov_tok)\n",
    "tokenizer.fit_on_texts(tweets)\n",
    "word_index=tokenizer.word_index"
   ]
  },
  {
   "cell_type": "code",
   "execution_count": 258,
   "metadata": {},
   "outputs": [],
   "source": [
    "sequences_tweets=tokenizer.texts_to_sequences(tweets)\n",
    "sequences_test=tokenizer.texts_to_sequences(test_tweets)"
   ]
  },
  {
   "cell_type": "code",
   "execution_count": 259,
   "metadata": {},
   "outputs": [],
   "source": [
    "from tensorflow.keras.preprocessing.sequence import pad_sequences\n",
    "padded_seq_train=pad_sequences(sequences_tweets,padding='post',maxlen=max_length,truncating=trunc_type)\n",
    "padded_seq_test=pad_sequences(sequences_test,padding='post',maxlen=max_length,truncating=trunc_type)"
   ]
  },
  {
   "cell_type": "code",
   "execution_count": 260,
   "metadata": {},
   "outputs": [
    {
     "name": "stdout",
     "output_type": "stream",
     "text": [
      "Train on 31 samples, validate on 4 samples\n",
      "Epoch 1/20\n",
      "31/31 [==============================] - 1s 46ms/sample - loss: 0.6931 - accuracy: 0.5376 - val_loss: 0.6944 - val_accuracy: 0.4167\n",
      "Epoch 2/20\n",
      "31/31 [==============================] - 0s 2ms/sample - loss: 0.6925 - accuracy: 0.5269 - val_loss: 0.6937 - val_accuracy: 0.4167\n",
      "Epoch 3/20\n",
      "31/31 [==============================] - 0s 2ms/sample - loss: 0.6920 - accuracy: 0.5591 - val_loss: 0.6932 - val_accuracy: 0.4167\n",
      "Epoch 4/20\n",
      "31/31 [==============================] - 0s 2ms/sample - loss: 0.6916 - accuracy: 0.5591 - val_loss: 0.6927 - val_accuracy: 0.5000\n",
      "Epoch 5/20\n",
      "31/31 [==============================] - 0s 2ms/sample - loss: 0.6912 - accuracy: 0.5699 - val_loss: 0.6921 - val_accuracy: 0.5833\n",
      "Epoch 6/20\n",
      "31/31 [==============================] - 0s 1ms/sample - loss: 0.6907 - accuracy: 0.5914 - val_loss: 0.6917 - val_accuracy: 0.5833\n",
      "Epoch 7/20\n",
      "31/31 [==============================] - 0s 3ms/sample - loss: 0.6903 - accuracy: 0.5914 - val_loss: 0.6913 - val_accuracy: 0.5833\n",
      "Epoch 8/20\n",
      "31/31 [==============================] - 0s 1ms/sample - loss: 0.6899 - accuracy: 0.6129 - val_loss: 0.6909 - val_accuracy: 0.5833\n",
      "Epoch 9/20\n",
      "31/31 [==============================] - 0s 2ms/sample - loss: 0.6895 - accuracy: 0.6129 - val_loss: 0.6905 - val_accuracy: 0.5833\n",
      "Epoch 10/20\n",
      "31/31 [==============================] - 0s 2ms/sample - loss: 0.6890 - accuracy: 0.6129 - val_loss: 0.6901 - val_accuracy: 0.5833\n",
      "Epoch 11/20\n",
      "31/31 [==============================] - 0s 1ms/sample - loss: 0.6887 - accuracy: 0.6129 - val_loss: 0.6897 - val_accuracy: 0.5833\n",
      "Epoch 12/20\n",
      "31/31 [==============================] - 0s 1ms/sample - loss: 0.6882 - accuracy: 0.6129 - val_loss: 0.6892 - val_accuracy: 0.5833\n",
      "Epoch 13/20\n",
      "31/31 [==============================] - 0s 2ms/sample - loss: 0.6878 - accuracy: 0.6129 - val_loss: 0.6889 - val_accuracy: 0.5833\n",
      "Epoch 14/20\n",
      "31/31 [==============================] - 0s 2ms/sample - loss: 0.6874 - accuracy: 0.6129 - val_loss: 0.6885 - val_accuracy: 0.5833\n",
      "Epoch 15/20\n",
      "31/31 [==============================] - 0s 2ms/sample - loss: 0.6869 - accuracy: 0.6129 - val_loss: 0.6881 - val_accuracy: 0.5833\n",
      "Epoch 16/20\n",
      "31/31 [==============================] - 0s 2ms/sample - loss: 0.6865 - accuracy: 0.6129 - val_loss: 0.6877 - val_accuracy: 0.5833\n",
      "Epoch 17/20\n",
      "31/31 [==============================] - 0s 2ms/sample - loss: 0.6861 - accuracy: 0.6129 - val_loss: 0.6873 - val_accuracy: 0.5833\n",
      "Epoch 18/20\n",
      "31/31 [==============================] - 0s 2ms/sample - loss: 0.6857 - accuracy: 0.6129 - val_loss: 0.6868 - val_accuracy: 0.5833\n",
      "Epoch 19/20\n",
      "31/31 [==============================] - 0s 2ms/sample - loss: 0.6852 - accuracy: 0.6129 - val_loss: 0.6864 - val_accuracy: 0.5833\n",
      "Epoch 20/20\n",
      "31/31 [==============================] - 0s 2ms/sample - loss: 0.6848 - accuracy: 0.6129 - val_loss: 0.6860 - val_accuracy: 0.5833\n"
     ]
    }
   ],
   "source": [
    "model=tf.keras.Sequential([\n",
    "    tf.keras.layers.Embedding(vocab_size,embedding_dim,input_length=max_length),\n",
    "    tf.keras.layers.GlobalAveragePooling1D(),\n",
    "    tf.keras.layers.Dense(6,activation='relu'),\n",
    "    tf.keras.layers.Dense(3,activation='sigmoid')\n",
    "])\n",
    "\n",
    "model.compile(optimizer='adam',loss='binary_crossentropy',metrics=['accuracy'])\n",
    "history=model.fit(padded_seq_train,label_list,epochs=20,verbose=1,validation_data=(padded_seq_test,test_labels))"
   ]
  },
  {
   "cell_type": "code",
   "execution_count": 261,
   "metadata": {},
   "outputs": [
    {
     "name": "stdout",
     "output_type": "stream",
     "text": [
      "Train on 31 samples, validate on 4 samples\n",
      "Epoch 1/20\n",
      "31/31 [==============================] - 18s 570ms/sample - loss: 0.6936 - accuracy: 0.4516 - val_loss: 0.6918 - val_accuracy: 0.7500\n",
      "Epoch 2/20\n",
      "31/31 [==============================] - 0s 5ms/sample - loss: 0.6924 - accuracy: 0.5591 - val_loss: 0.6903 - val_accuracy: 0.7500\n",
      "Epoch 3/20\n",
      "31/31 [==============================] - 0s 5ms/sample - loss: 0.6915 - accuracy: 0.5806 - val_loss: 0.6887 - val_accuracy: 0.6667\n",
      "Epoch 4/20\n",
      "31/31 [==============================] - 0s 5ms/sample - loss: 0.6906 - accuracy: 0.5699 - val_loss: 0.6869 - val_accuracy: 0.6667\n",
      "Epoch 5/20\n",
      "31/31 [==============================] - 0s 5ms/sample - loss: 0.6896 - accuracy: 0.5699 - val_loss: 0.6849 - val_accuracy: 0.6667\n",
      "Epoch 6/20\n",
      "31/31 [==============================] - 0s 5ms/sample - loss: 0.6884 - accuracy: 0.5699 - val_loss: 0.6826 - val_accuracy: 0.6667\n",
      "Epoch 7/20\n",
      "31/31 [==============================] - 0s 5ms/sample - loss: 0.6871 - accuracy: 0.5699 - val_loss: 0.6799 - val_accuracy: 0.6667\n",
      "Epoch 8/20\n",
      "31/31 [==============================] - 0s 5ms/sample - loss: 0.6856 - accuracy: 0.5699 - val_loss: 0.6765 - val_accuracy: 0.6667\n",
      "Epoch 9/20\n",
      "31/31 [==============================] - 0s 5ms/sample - loss: 0.6838 - accuracy: 0.5699 - val_loss: 0.6726 - val_accuracy: 0.6667\n",
      "Epoch 10/20\n",
      "31/31 [==============================] - 0s 5ms/sample - loss: 0.6817 - accuracy: 0.5699 - val_loss: 0.6679 - val_accuracy: 0.6667\n",
      "Epoch 11/20\n",
      "31/31 [==============================] - 0s 5ms/sample - loss: 0.6793 - accuracy: 0.5699 - val_loss: 0.6624 - val_accuracy: 0.6667\n",
      "Epoch 12/20\n",
      "31/31 [==============================] - 0s 6ms/sample - loss: 0.6765 - accuracy: 0.5699 - val_loss: 0.6562 - val_accuracy: 0.6667\n",
      "Epoch 13/20\n",
      "31/31 [==============================] - 0s 5ms/sample - loss: 0.6736 - accuracy: 0.5699 - val_loss: 0.6496 - val_accuracy: 0.6667\n",
      "Epoch 14/20\n",
      "31/31 [==============================] - 0s 5ms/sample - loss: 0.6706 - accuracy: 0.5699 - val_loss: 0.6430 - val_accuracy: 0.6667\n",
      "Epoch 15/20\n",
      "31/31 [==============================] - 0s 5ms/sample - loss: 0.6678 - accuracy: 0.5699 - val_loss: 0.6367 - val_accuracy: 0.6667\n",
      "Epoch 16/20\n",
      "31/31 [==============================] - 0s 5ms/sample - loss: 0.6650 - accuracy: 0.5699 - val_loss: 0.6309 - val_accuracy: 0.6667\n",
      "Epoch 17/20\n",
      "31/31 [==============================] - 0s 5ms/sample - loss: 0.6616 - accuracy: 0.5699 - val_loss: 0.6260 - val_accuracy: 0.6667\n",
      "Epoch 18/20\n",
      "31/31 [==============================] - 0s 5ms/sample - loss: 0.6568 - accuracy: 0.5699 - val_loss: 0.6226 - val_accuracy: 0.6667\n",
      "Epoch 19/20\n",
      "31/31 [==============================] - 0s 5ms/sample - loss: 0.6510 - accuracy: 0.5806 - val_loss: 0.6191 - val_accuracy: 0.7500\n",
      "Epoch 20/20\n",
      "31/31 [==============================] - 0s 5ms/sample - loss: 0.6437 - accuracy: 0.6022 - val_loss: 0.6134 - val_accuracy: 0.7500\n"
     ]
    }
   ],
   "source": [
    "model=tf.keras.Sequential([\n",
    "        tf.keras.layers.Embedding(vocab_size,embedding_dim,input_length=max_length),\n",
    "        tf.keras.layers.Bidirectional(tf.keras.layers.LSTM(64,return_sequences=True)),\n",
    "        tf.keras.layers.Bidirectional(tf.keras.layers.LSTM(32)),\n",
    "        tf.keras.layers.Dense(64,activation='relu'),\n",
    "        tf.keras.layers.Dense(3,activation='sigmoid')\n",
    "])\n",
    "\n",
    "model.compile(optimizer='adam',loss='binary_crossentropy',metrics=['accuracy'])\n",
    "history=model.fit(padded_seq_train,label_list,epochs=20,verbose=1,validation_data=(padded_seq_test,test_labels))"
   ]
  },
  {
   "cell_type": "code",
   "execution_count": 262,
   "metadata": {},
   "outputs": [
    {
     "data": {
      "image/png": "[encoded data removed]",
      "text/plain": [
       "<Figure size 432x288 with 1 Axes>"
      ]
     },
     "metadata": {
      "needs_background": "light"
     },
     "output_type": "display_data"
    }
   ],
   "source": [
    "import matplotlib.pyplot as plt\n",
    "%matplotlib inline\n",
    "\n",
    "plt.plot(history.history[\"accuracy\"])\n",
    "plt.xlabel(\"Epochs\")\n",
    "plt.ylabel(\"accuracy\")\n",
    "plt.show()"
   ]
  }
 ],
 "metadata": {
  "kernelspec": {
   "display_name": "Python 3",
   "language": "python",
   "name": "python3"
  },
  "language_info": {
   "codemirror_mode": {
    "name": "ipython",
    "version": 3
   },
   "file_extension": ".py",
   "mimetype": "text/x-python",
   "name": "python",
   "nbconvert_exporter": "python",
   "pygments_lexer": "ipython3",
   "version": "3.7.5"
  }
 },
 "nbformat": 4,
 "nbformat_minor": 4
}
